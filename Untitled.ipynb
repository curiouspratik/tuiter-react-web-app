{
 "cells": [
  {
   "cell_type": "code",
   "execution_count": 4,
   "id": "a7db3932",
   "metadata": {},
   "outputs": [],
   "source": [
    "def run_encode(string1):\n",
    "    temp = 0\n",
    "    new_str = \"\"\n",
    "    for i in range(1, len(string1)):\n",
    "        if string1[i] == string1[i-1]:\n",
    "            temp+=1\n",
    "        else:\n",
    "            new_str+=str(temp)+string[i]\n",
    "            temp = 0\n",
    "    return new_str"
   ]
  },
  {
   "cell_type": "code",
   "execution_count": null,
   "id": "aaa226e6",
   "metadata": {},
   "outputs": [],
   "source": []
  }
 ],
 "metadata": {
  "kernelspec": {
   "display_name": "Python 3 (ipykernel)",
   "language": "python",
   "name": "python3"
  },
  "language_info": {
   "codemirror_mode": {
    "name": "ipython",
    "version": 3
   },
   "file_extension": ".py",
   "mimetype": "text/x-python",
   "name": "python",
   "nbconvert_exporter": "python",
   "pygments_lexer": "ipython3",
   "version": "3.8.11"
  }
 },
 "nbformat": 4,
 "nbformat_minor": 5
}
